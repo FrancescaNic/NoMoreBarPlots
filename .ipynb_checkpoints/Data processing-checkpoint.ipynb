{
 "cells": [
  {
   "cell_type": "code",
   "execution_count": 1,
   "id": "350779fd",
   "metadata": {},
   "outputs": [],
   "source": [
    "import xml.etree.ElementTree as Xet \n",
    "import pandas as pd \n",
    "import os"
   ]
  },
  {
   "cell_type": "code",
   "execution_count": 4,
   "id": "52aa398f",
   "metadata": {},
   "outputs": [],
   "source": [
    "cols = [\"Country or Area\", \"Commodity - Transaction\",\"Commodity\",\"Transaction\", \"Year\", \"Unit\", \"Quantity\",\"Quantity Footnotes\"]  \n",
    "cols_commodity_transaction = [\"Commodity - transaction\",\"Commodity\",\"Transaction\"];\n",
    "\n",
    "list_commodity_transaction = []\n",
    "list_country_or_area = []\n",
    "\n",
    "files = os.listdir(\"/Users/kieranvaudaux/Desktop/Master 2/Data Visualisation/NoMoreBarPlots/Data\");\n",
    "files.remove(files[12])"
   ]
  },
  {
   "cell_type": "code",
   "execution_count": null,
   "id": "a9335fec",
   "metadata": {},
   "outputs": [],
   "source": [
    "for k in range(len(files)):\n",
    "    rows = [] \n",
    "    xmlparse = Xet.parse(\"./Data/\"+files[k]) \n",
    "    root = xmlparse.getroot() \n",
    "    for i in root[0]: \n",
    "        country = i.find(\"./field/[@name='Country or Area']\").text\n",
    "        commodity_transaction = i.find(\"./field/[@name='Commodity - Transaction']\").text\n",
    "        Year = i.find(\"./field/[@name='Year']\").text\n",
    "        Unit = i.find(\"./field/[@name='Unit']\").text\n",
    "        Quantity = i.find(\"./field/[@name='Quantity']\").text\n",
    "        quantity_footnotes = i.find(\"./field/[@name='Quantity Footnotes']\").text\n",
    "\n",
    "        split = [l.split(\" - \") for l in commodity_transaction.split(\" – \")];\n",
    "        \n",
    "        if(len(split)==2): \n",
    "            commodity = split[0][0];\n",
    "            transaction = split[1][0];\n",
    "        elif(len(split[0]) == 2): \n",
    "            commodity = split[0][0];\n",
    "            transaction = split[0][1];\n",
    "        else: \n",
    "            commodity = split[0][0];\n",
    "            transaction = None;\n",
    "        \n",
    "        #if country not in list_country_or_area: list_country_or_area.append(country);\n",
    "        #if commodity_transaction not in list_commodity_transaction: \n",
    "            #list_commodity_transaction.append({\"Commodity - Transaction\":commodity_transaction,\n",
    "                                              #\"Commodity\": commodity,\n",
    "                                              #\"Transaction\": transaction});\n",
    "\n",
    "        rows.append({\"Country or Area\": country, \n",
    "                     \"Commodity - Transaction\": commodity_transaction, \n",
    "                     \"Year\": int(Year),\n",
    "                     \"Commodity\": commodity,\n",
    "                     \"Transaction\": transaction,\n",
    "                     \"Unit\": Unit, \n",
    "                     \"Quantity\": float(Quantity),\n",
    "                     \"Quantity Footnotes\": quantity_footnotes})\n",
    "    \n",
    "    \n",
    "    df = pd.DataFrame(rows, columns=cols);\n",
    "  \n",
    "    df.to_csv(\"./Data_clean/\"+files[k][:len(files[k])-3]+'csv')"
   ]
  },
  {
   "cell_type": "code",
   "execution_count": null,
   "id": "0b062e25",
   "metadata": {},
   "outputs": [],
   "source": [
    "files_clean = os.listdir(\"/Users/kieranvaudaux/Desktop/Master 2/Data Visualisation/NoMoreBarPlots/Data_clean\");\n",
    "files_clean.remove('.DS_Store')"
   ]
  },
  {
   "cell_type": "code",
   "execution_count": 3,
   "id": "b0a66d30",
   "metadata": {},
   "outputs": [
    {
     "ename": "NameError",
     "evalue": "name 'files_clean' is not defined",
     "output_type": "error",
     "traceback": [
      "\u001b[0;31m---------------------------------------------------------------------------\u001b[0m",
      "\u001b[0;31mNameError\u001b[0m                                 Traceback (most recent call last)",
      "\u001b[0;32m/var/folders/c4/wb13541d4n104gj2c8s0pdf40000gn/T/ipykernel_75946/396653428.py\u001b[0m in \u001b[0;36m<module>\u001b[0;34m\u001b[0m\n\u001b[0;32m----> 1\u001b[0;31m \u001b[0;32mfor\u001b[0m \u001b[0mname\u001b[0m \u001b[0;32min\u001b[0m \u001b[0mfiles_clean\u001b[0m\u001b[0;34m:\u001b[0m\u001b[0;34m\u001b[0m\u001b[0;34m\u001b[0m\u001b[0m\n\u001b[0m\u001b[1;32m      2\u001b[0m     \u001b[0mcurrent_data\u001b[0m \u001b[0;34m=\u001b[0m \u001b[0mpd\u001b[0m\u001b[0;34m.\u001b[0m\u001b[0mread_csv\u001b[0m\u001b[0;34m(\u001b[0m\u001b[0;34m\"./Data_clean/\"\u001b[0m\u001b[0;34m+\u001b[0m\u001b[0mname\u001b[0m\u001b[0;34m)\u001b[0m\u001b[0;34m;\u001b[0m\u001b[0;34m\u001b[0m\u001b[0;34m\u001b[0m\u001b[0m\n\u001b[1;32m      3\u001b[0m     \u001b[0mcountry\u001b[0m \u001b[0;34m=\u001b[0m \u001b[0mcurrent_data\u001b[0m\u001b[0;34m[\u001b[0m\u001b[0;34m\"Country or Area\"\u001b[0m\u001b[0;34m]\u001b[0m\u001b[0;34m.\u001b[0m\u001b[0munique\u001b[0m\u001b[0;34m(\u001b[0m\u001b[0;34m)\u001b[0m\u001b[0;34m\u001b[0m\u001b[0;34m\u001b[0m\u001b[0m\n\u001b[1;32m      4\u001b[0m     \u001b[0;32mfor\u001b[0m \u001b[0mcountry_\u001b[0m \u001b[0;32min\u001b[0m \u001b[0mcountry\u001b[0m\u001b[0;34m:\u001b[0m\u001b[0;34m\u001b[0m\u001b[0;34m\u001b[0m\u001b[0m\n\u001b[1;32m      5\u001b[0m         \u001b[0mlist_country_or_area\u001b[0m\u001b[0;34m.\u001b[0m\u001b[0mappend\u001b[0m\u001b[0;34m(\u001b[0m\u001b[0mcountry_\u001b[0m\u001b[0;34m)\u001b[0m\u001b[0;34m\u001b[0m\u001b[0;34m\u001b[0m\u001b[0m\n",
      "\u001b[0;31mNameError\u001b[0m: name 'files_clean' is not defined"
     ]
    }
   ],
   "source": [
    "\n",
    "for name in files_clean:\n",
    "    current_data = pd.read_csv(\"./Data_clean/\"+name);\n",
    "    country = current_data[\"Country or Area\"].unique()\n",
    "    for country_ in country:\n",
    "        list_country_or_area.append(country_)\n",
    "list_country_or_area = set(list_country_or_area)"
   ]
  },
  {
   "cell_type": "code",
   "execution_count": 237,
   "id": "95e314dc",
   "metadata": {},
   "outputs": [],
   "source": [
    "df = pd.DataFrame(list(list_country_or_area));\n",
    "df.to_csv(\"Country or Area\");"
   ]
  },
  {
   "cell_type": "code",
   "execution_count": null,
   "id": "21f12786",
   "metadata": {},
   "outputs": [],
   "source": []
  },
  {
   "cell_type": "code",
   "execution_count": null,
   "id": "a73e1b3e",
   "metadata": {},
   "outputs": [],
   "source": []
  }
 ],
 "metadata": {
  "kernelspec": {
   "display_name": "Python 3 (ipykernel)",
   "language": "python",
   "name": "python3"
  },
  "language_info": {
   "codemirror_mode": {
    "name": "ipython",
    "version": 3
   },
   "file_extension": ".py",
   "mimetype": "text/x-python",
   "name": "python",
   "nbconvert_exporter": "python",
   "pygments_lexer": "ipython3",
   "version": "3.8.8"
  }
 },
 "nbformat": 4,
 "nbformat_minor": 5
}
